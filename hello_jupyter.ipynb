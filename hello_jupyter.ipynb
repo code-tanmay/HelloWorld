{
 "cells": [
  {
   "cell_type": "code",
   "execution_count": 1,
   "metadata": {},
   "outputs": [
    {
     "name": "stdout",
     "output_type": "stream",
     "text": [
      "hello world from vs code jupyter\n"
     ]
    }
   ],
   "source": [
    "print('hello world from vs code jupyter')"
   ]
  },
  {
   "cell_type": "code",
   "execution_count": 2,
   "metadata": {},
   "outputs": [
    {
     "data": {
      "text/plain": [
       "'1.4.2'"
      ]
     },
     "execution_count": 2,
     "metadata": {},
     "output_type": "execute_result"
    }
   ],
   "source": [
    "import pandas as pd\n",
    "pd.__version__"
   ]
  },
  {
   "cell_type": "code",
   "execution_count": 3,
   "metadata": {},
   "outputs": [
    {
     "data": {
      "text/plain": [
       "'1.22.3'"
      ]
     },
     "execution_count": 3,
     "metadata": {},
     "output_type": "execute_result"
    }
   ],
   "source": [
    "import numpy as np\n",
    "np.__version__"
   ]
  },
  {
   "cell_type": "code",
   "execution_count": 1,
   "metadata": {},
   "outputs": [
    {
     "name": "stdout",
     "output_type": "stream",
     "text": [
      "\n",
      "Please wait a moment while I gather a list of all available modules...\n",
      "\n"
     ]
    },
    {
     "name": "stderr",
     "output_type": "stream",
     "text": [
      "Matplotlib is building the font cache; this may take a moment.\n",
      "c:\\python\\python310\\lib\\pkgutil.py:92: UserWarning: The numpy.array_api submodule is still experimental. See NEP 47.\n",
      "  __import__(info.name)\n",
      "c:\\python\\python310\\lib\\pkgutil.py:107: VisibleDeprecationWarning: zmq.eventloop.minitornado is deprecated in pyzmq 14.0 and will be removed.\n",
      "    Install tornado itself to use zmq with the tornado IOLoop.\n",
      "    \n",
      "  yield from walk_packages(path, info.name+'.', onerror)\n"
     ]
    },
    {
     "name": "stdout",
     "output_type": "stream",
     "text": [
      "IPython             audioop             matplotlib_inline   stringprep\n",
      "PIL                 backcall            mimetypes           struct\n",
      "__future__          base64              mmap                subprocess\n",
      "_abc                bdb                 mmapfile            sunau\n",
      "_aix_support        binascii            mmsystem            symtable\n",
      "_ast                binhex              modulefinder        sys\n",
      "_asyncio            bisect              msilib              sysconfig\n",
      "_bisect             builtins            msvcrt              tabnanny\n",
      "_blake2             bz2                 multiprocessing     tarfile\n",
      "_bootsubprocess     cProfile            nest_asyncio        telnetlib\n",
      "_bz2                calendar            netbios             tempfile\n",
      "_codecs             cgi                 netrc               test\n",
      "_codecs_cn          cgitb               nntplib             textwrap\n",
      "_codecs_hk          chunk               nt                  this\n",
      "_codecs_iso2022     cmath               ntpath              threading\n",
      "_codecs_jp          cmd                 ntsecuritycon       time\n",
      "_codecs_kr          code                nturl2path          timeit\n",
      "_codecs_tw          codecs              numbers             timer\n",
      "_collections        codeop              numpy               tkinter\n",
      "_collections_abc    collections         odbc                token\n",
      "_compat_pickle      colorama            opcode              tokenize\n",
      "_compression        colorsys            operator            tomli\n",
      "_contextvars        commctrl            optparse            tornado\n",
      "_csv                compileall          os                  trace\n",
      "_ctypes             concurrent          packaging           traceback\n",
      "_ctypes_test        configparser        pandas              tracemalloc\n",
      "_datetime           contextlib          parso               traitlets\n",
      "_decimal            contextvars         pathlib             tty\n",
      "_distutils_hack     copy                pdb                 turtle\n",
      "_elementtree        copyreg             perfmon             turtledemo\n",
      "_functools          crypt               pickle              types\n",
      "_hashlib            csv                 pickleshare         typing\n",
      "_heapq              ctypes              pickletools         unicodedata\n",
      "_imp                curses              pip                 unittest\n",
      "_io                 cycler              pipes               urllib\n",
      "_json               dataclasses         pkg_resources       uu\n",
      "_locale             datetime            pkgutil             uuid\n",
      "_lsprof             dateutil            platform            venv\n",
      "_lzma               dbi                 plistlib            warnings\n",
      "_markupbase         dbm                 pluggy              wave\n",
      "_md5                dde                 poplib              wcwidth\n",
      "_msi                debugpy             posixpath           weakref\n",
      "_multibytecodec     decimal             pprint              webbrowser\n",
      "_multiprocessing    decorator           profile             wheel\n",
      "_opcode             difflib             prompt_toolkit      win2kras\n",
      "_operator           dis                 pstats              win32api\n",
      "_osx_support        distutils           psutil              win32clipboard\n",
      "_overlapped         doctest             pty                 win32com\n",
      "_pickle             email               pure_eval           win32con\n",
      "_py_abc             encodings           py                  win32console\n",
      "_pydecimal          ensurepip           py4j                win32cred\n",
      "_pyio               entrypoints         py_compile          win32crypt\n",
      "_pytest             enum                pyclbr              win32cryptcon\n",
      "_queue              errno               pydoc               win32event\n",
      "_random             executing           pydoc_data          win32evtlog\n",
      "_sha1               faulthandler        pyexpat             win32evtlogutil\n",
      "_sha256             filecmp             pygments            win32file\n",
      "_sha3               fileinput           pylab               win32gui\n",
      "_sha512             fnmatch             pyparsing           win32gui_struct\n",
      "_signal             fontTools           pyspark             win32help\n",
      "_sitebuiltins       fractions           pytest              win32inet\n",
      "_socket             ftplib              python_hello_world  win32inetcon\n",
      "_sqlite3            functools           pythoncom           win32job\n",
      "_sre                gc                  pytz                win32lz\n",
      "_ssl                genericpath         pywin               win32net\n",
      "_stat               getopt              pywin32_bootstrap   win32netcon\n",
      "_statistics         getpass             pywin32_testutil    win32pdh\n",
      "_string             gettext             pywintypes          win32pdhquery\n",
      "_strptime           glob                queue               win32pdhutil\n",
      "_struct             graphlib            quopri              win32pipe\n",
      "_symtable           gzip                random              win32print\n",
      "_testbuffer         hashlib             rasutil             win32process\n",
      "_testcapi           heapq               re                  win32profile\n",
      "_testconsole        hmac                regcheck            win32ras\n",
      "_testimportmultiple html                regutil             win32rcparser\n",
      "_testinternalcapi   http                reprlib             win32security\n",
      "_testmultiphase     idlelib             rlcompleter         win32service\n",
      "_thread             imaplib             runpy               win32serviceutil\n",
      "_threading_local    imghdr              sched               win32timezone\n",
      "_tkinter            imp                 secrets             win32trace\n",
      "_tracemalloc        importlib           select              win32traceutil\n",
      "_uuid               iniconfig           selectors           win32transaction\n",
      "_warnings           inspect             servicemanager      win32ts\n",
      "_weakref            io                  setuptools          win32ui\n",
      "_weakrefset         ipaddress           shelve              win32uiole\n",
      "_win32sysloader     ipykernel           shlex               win32verstamp\n",
      "_winapi             ipykernel_launcher  shutil              win32wnet\n",
      "_winxptheme         isapi               signal              winerror\n",
      "_xxsubinterpreters  itertools           site                winioctlcon\n",
      "_zoneinfo           jedi                six                 winnt\n",
      "abc                 json                smtpd               winperf\n",
      "adodbapi            jupyter             smtplib             winreg\n",
      "afxres              jupyter_client      sndhdr              winsound\n",
      "aifc                jupyter_core        socket              winxpgui\n",
      "antigravity         keyword             socketserver        winxptheme\n",
      "argparse            kiwisolver          sqlite3             wsgiref\n",
      "array               lib2to3             sre_compile         xdrlib\n",
      "ast                 linecache           sre_constants       xml\n",
      "asttokens           locale              sre_parse           xmlrpc\n",
      "asynchat            logging             ssl                 xxsubtype\n",
      "asyncio             lzma                sspi                zipapp\n",
      "asyncore            mailbox             sspicon             zipfile\n",
      "atexit              mailcap             stack_data          zipimport\n",
      "atomicwrites        marshal             stat                zlib\n",
      "attr                math                statistics          zmq\n",
      "attrs               matplotlib          string              zoneinfo\n",
      "\n",
      "Enter any module name to get more help.  Or, type \"modules spam\" to search\n",
      "for modules whose name or summary contain the string \"spam\".\n",
      "\n"
     ]
    }
   ],
   "source": [
    "help('modules')"
   ]
  }
 ],
 "metadata": {
  "kernelspec": {
   "display_name": "Python 3.10.4 64-bit",
   "language": "python",
   "name": "python3"
  },
  "language_info": {
   "codemirror_mode": {
    "name": "ipython",
    "version": 3
   },
   "file_extension": ".py",
   "mimetype": "text/x-python",
   "name": "python",
   "nbconvert_exporter": "python",
   "pygments_lexer": "ipython3",
   "version": "3.10.4"
  },
  "orig_nbformat": 4,
  "vscode": {
   "interpreter": {
    "hash": "475a401d5f8531da0d5ec3d32485cfac990b88381cdc99d4b948e204c9710bec"
   }
  }
 },
 "nbformat": 4,
 "nbformat_minor": 2
}
